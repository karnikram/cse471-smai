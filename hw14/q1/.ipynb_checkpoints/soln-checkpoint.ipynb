{
 "cells": [
  {
   "cell_type": "code",
   "execution_count": 1,
   "metadata": {},
   "outputs": [],
   "source": [
    "import numpy as np\n",
    "\n",
    "from sklearn.datasets import fetch_openml\n",
    "from sklearn.model_selection import train_test_split\n",
    "from sklearn.linear_model import Perceptron, LogisticRegression\n",
    "from sklearn import neighbors, svm\n",
    "from sklearn.metrics import accuracy_score, f1_score, precision_score, recall_score"
   ]
  },
  {
   "cell_type": "code",
   "execution_count": 10,
   "metadata": {},
   "outputs": [],
   "source": [
    "X,y = fetch_openml('mnist_784', return_X_y = True)\n",
    "X = X[:10000,:]\n",
    "y = y[:10000]\n",
    "X_train, X_test, y_train, y_test = train_test_split(X,y,train_size = 0.6,test_size = 0.4, random_state = 42)"
   ]
  },
  {
   "cell_type": "code",
   "execution_count": 4,
   "metadata": {},
   "outputs": [
    {
     "name": "stdout",
     "output_type": "stream",
     "text": [
      "Accuracy score: 0.94175\n",
      "F1 score: 0.9405321727539313\n",
      "Precision score: 0.943171955603197\n",
      "Recall score: 0.9394086327174103\n"
     ]
    }
   ],
   "source": [
    "# Nearest neighbor\n",
    "clf = neighbors.KNeighborsClassifier()\n",
    "clf.fit(X_train,y_train)\n",
    "y_pred = clf.predict(X_test)\n",
    "print('Accuracy score: ' + str(accuracy_score(y_test,y_pred)))\n",
    "print('F1 score: ' + str(f1_score(y_test,y_pred,average = 'macro')))\n",
    "print('Precision score: ' + str(precision_score(y_test,y_pred,average = 'macro')))\n",
    "print('Recall score: ' + str(recall_score(y_test,y_pred,average = 'macro')))"
   ]
  },
  {
   "cell_type": "code",
   "execution_count": 6,
   "metadata": {},
   "outputs": [
    {
     "name": "stdout",
     "output_type": "stream",
     "text": [
      "Accuracy score: 0.86975\n",
      "F1 score: 0.8665616970238226\n",
      "Precision score: 0.8691447032376642\n",
      "Recall score: 0.8666012942348512\n"
     ]
    }
   ],
   "source": [
    "# Perceptron\n",
    "clf = Perceptron(max_iter = 100)\n",
    "clf.fit(X_train,y_train)\n",
    "y_pred = clf.predict(X_test)\n",
    "print('Accuracy score: ' + str(accuracy_score(y_test,y_pred)))\n",
    "print('F1 score: ' + str(f1_score(y_test,y_pred,average = 'macro')))\n",
    "print('Precision score: ' + str(precision_score(y_test,y_pred,average = 'macro')))\n",
    "print('Recall score: ' + str(recall_score(y_test,y_pred,average = 'macro')))"
   ]
  },
  {
   "cell_type": "code",
   "execution_count": 7,
   "metadata": {},
   "outputs": [
    {
     "name": "stdout",
     "output_type": "stream",
     "text": [
      "Accuracy score: 0.81275\n",
      "F1 score: 0.8106861727603114\n",
      "Precision score: 0.8163232198601571\n",
      "Recall score: 0.8087694077446604\n"
     ]
    },
    {
     "name": "stderr",
     "output_type": "stream",
     "text": [
      "/home/karnik/tools/miniconda3/lib/python3.7/site-packages/sklearn/svm/base.py:922: ConvergenceWarning: Liblinear failed to converge, increase the number of iterations.\n",
      "  \"the number of iterations.\", ConvergenceWarning)\n"
     ]
    }
   ],
   "source": [
    "# Logistic regression\n",
    "clf = LogisticRegression(multi_class = 'ovr', solver = 'liblinear')\n",
    "clf.fit(X_train,y_train)\n",
    "y_pred = clf.predict(X_test)\n",
    "print('Accuracy score: ' + str(accuracy_score(y_test,y_pred)))\n",
    "print('F1 score: ' + str(f1_score(y_test,y_pred,average = 'macro')))\n",
    "print('Precision score: ' + str(precision_score(y_test,y_pred,average = 'macro')))\n",
    "print('Recall score: ' + str(recall_score(y_test,y_pred,average = 'macro')))"
   ]
  },
  {
   "cell_type": "code",
   "execution_count": 8,
   "metadata": {},
   "outputs": [
    {
     "name": "stdout",
     "output_type": "stream",
     "text": [
      "Accuracy score: 0.91425\n",
      "F1 score: 0.9115887020337498\n",
      "Precision score: 0.9124429524626116\n",
      "Recall score: 0.9112300586441371\n"
     ]
    }
   ],
   "source": [
    "# Linear SVM\n",
    "clf = svm.SVC(kernel = 'linear')\n",
    "clf.fit(X_train,y_train)\n",
    "y_pred = clf.predict(X_test)\n",
    "print('Accuracy score: ' + str(accuracy_score(y_test,y_pred)))\n",
    "print('F1 score: ' + str(f1_score(y_test,y_pred,average = 'macro')))\n",
    "print('Precision score: ' + str(precision_score(y_test,y_pred,average = 'macro')))\n",
    "print('Recall score: ' + str(recall_score(y_test,y_pred,average = 'macro')))"
   ]
  },
  {
   "cell_type": "code",
   "execution_count": 11,
   "metadata": {},
   "outputs": [
    {
     "name": "stdout",
     "output_type": "stream",
     "text": [
      "Accuracy score: 0.11282142857142857\n",
      "F1 score: 0.0202766455919638\n",
      "Precision score: 0.011282142857142857\n",
      "Recall score: 0.1\n"
     ]
    },
    {
     "name": "stderr",
     "output_type": "stream",
     "text": [
      "/home/karnik/tools/miniconda3/lib/python3.7/site-packages/sklearn/metrics/classification.py:1143: UndefinedMetricWarning: F-score is ill-defined and being set to 0.0 in labels with no predicted samples.\n",
      "  'precision', 'predicted', average, warn_for)\n",
      "/home/karnik/tools/miniconda3/lib/python3.7/site-packages/sklearn/metrics/classification.py:1143: UndefinedMetricWarning: Precision is ill-defined and being set to 0.0 in labels with no predicted samples.\n",
      "  'precision', 'predicted', average, warn_for)\n"
     ]
    }
   ],
   "source": [
    "# rbf SVM\n",
    "clf = svm.SVC(kernel = 'rbf', gamma = scale)\n",
    "clf.fit(X_train,y_train)\n",
    "y_pred = clf.predict(X_test)\n",
    "print('Accuracy score: ' + str(accuracy_score(y_test,y_pred)))\n",
    "print('F1 score: ' + str(f1_score(y_test,y_pred,average = 'macro')))\n",
    "print('Precision score: ' + str(precision_score(y_test,y_pred,average = 'macro')))\n",
    "print('Recall score: ' + str(recall_score(y_test,y_pred,average = 'macro')))"
   ]
  },
  {
   "cell_type": "code",
   "execution_count": null,
   "metadata": {},
   "outputs": [],
   "source": []
  }
 ],
 "metadata": {
  "kernelspec": {
   "display_name": "Python 3",
   "language": "python",
   "name": "python3"
  },
  "language_info": {
   "codemirror_mode": {
    "name": "ipython",
    "version": 3
   },
   "file_extension": ".py",
   "mimetype": "text/x-python",
   "name": "python",
   "nbconvert_exporter": "python",
   "pygments_lexer": "ipython3",
   "version": "3.7.0"
  }
 },
 "nbformat": 4,
 "nbformat_minor": 2
}

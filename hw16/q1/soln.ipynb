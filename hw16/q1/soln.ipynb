{
 "cells": [
  {
   "cell_type": "code",
   "execution_count": 46,
   "metadata": {},
   "outputs": [],
   "source": [
    "# Load modules\n",
    "\n",
    "import pickle\n",
    "import numpy as np\n",
    "from sklearn.svm import LinearSVC\n",
    "from sklearn.decomposition import PCA\n",
    "from sklearn.discriminant_analysis import LinearDiscriminantAnalysis as LDA"
   ]
  },
  {
   "cell_type": "code",
   "execution_count": 47,
   "metadata": {},
   "outputs": [],
   "source": [
    "# Load data\n",
    "\n",
    "with open('./cifar-10-batches-py/data_batch_1', 'rb') as f:\n",
    "    dict = pickle.load(f, encoding='bytes')\n",
    "\n",
    "b1_train_data = dict[b'data']\n",
    "b1_train_labels = dict[b'labels']\n",
    "\n",
    "with open('./cifar-10-batches-py/test_batch', 'rb') as f:\n",
    "    dict = pickle.load(f, encoding='bytes')\n",
    "\n",
    "b_test_data = dict[b'data']\n",
    "b_test_labels = dict[b'labels']"
   ]
  },
  {
   "cell_type": "code",
   "execution_count": 48,
   "metadata": {},
   "outputs": [],
   "source": [
    "def splitDataPairwise(label1,label2):\n",
    "    \n",
    "    # Train set, test set for label1-label2 classification\n",
    "    train_data = []\n",
    "    train_labels = []\n",
    "    test_data = []\n",
    "    test_labels = []\n",
    "    \n",
    "    # Populate train set with label1, label2 samples from train batch 1\n",
    "    for i,label in enumerate(b1_train_labels):\n",
    "        if(label == label1):\n",
    "            train_data.append(b1_train_data[i])\n",
    "            train_labels.append(label1)\n",
    "            \n",
    "        elif(label == label2):\n",
    "            train_data.append(b1_train_data[i])\n",
    "            train_labels.append(label2)\n",
    "            \n",
    "    # Populate test set with label1, label2 samples from test batch\n",
    "    for i,label in enumerate(b_test_labels):\n",
    "        if(label == label1):\n",
    "            test_data.append(b_test_data[i])\n",
    "            test_labels.append(label1)\n",
    "            \n",
    "        elif(label == label2):\n",
    "            test_data.append(b_test_data[i])\n",
    "            test_labels.append(label2)\n",
    "    \n",
    "    return train_data, train_labels, test_data, test_labels"
   ]
  },
  {
   "cell_type": "code",
   "execution_count": 61,
   "metadata": {},
   "outputs": [
    {
     "name": "stderr",
     "output_type": "stream",
     "text": [
      "/home/karnik/Tools/miniconda1/envs/smai/lib/python3.7/site-packages/sklearn/svm/base.py:922: ConvergenceWarning: Liblinear failed to converge, increase the number of iterations.\n",
      "  \"the number of iterations.\", ConvergenceWarning)\n"
     ]
    },
    {
     "name": "stdout",
     "output_type": "stream",
     "text": [
      "0.791\n"
     ]
    },
    {
     "name": "stderr",
     "output_type": "stream",
     "text": [
      "/home/karnik/Tools/miniconda1/envs/smai/lib/python3.7/site-packages/sklearn/svm/base.py:922: ConvergenceWarning: Liblinear failed to converge, increase the number of iterations.\n",
      "  \"the number of iterations.\", ConvergenceWarning)\n"
     ]
    },
    {
     "name": "stdout",
     "output_type": "stream",
     "text": [
      "0.5425\n",
      "0.651\n"
     ]
    },
    {
     "name": "stderr",
     "output_type": "stream",
     "text": [
      "/home/karnik/Tools/miniconda1/envs/smai/lib/python3.7/site-packages/sklearn/svm/base.py:922: ConvergenceWarning: Liblinear failed to converge, increase the number of iterations.\n",
      "  \"the number of iterations.\", ConvergenceWarning)\n"
     ]
    }
   ],
   "source": [
    "# Linear SVM\n",
    "\n",
    "# dog vs truck (easy)\n",
    "train_data, train_labels, test_data, test_labels = splitDataPairwise(5,9)\n",
    "clf = LinearSVC()\n",
    "clf.fit(train_data, train_labels)\n",
    "print(clf.score(test_data, test_labels))\n",
    "\n",
    "# deer vs horse (hard)\n",
    "train_data, train_labels, test_data, test_labels = splitDataPairwise(4,7)\n",
    "clf = LinearSVC()\n",
    "clf.fit(train_data, train_labels)\n",
    "print(clf.score(test_data, test_labels))\n",
    "\n",
    "# dog vs cat (harder)\n",
    "train_data, train_labels, test_data, test_labels = splitDataPairwise(5,3)\n",
    "clf = LinearSVC()\n",
    "clf.fit(train_data, train_labels)\n",
    "print(clf.score(test_data, test_labels))"
   ]
  },
  {
   "cell_type": "code",
   "execution_count": 63,
   "metadata": {},
   "outputs": [
    {
     "name": "stderr",
     "output_type": "stream",
     "text": [
      "/home/karnik/Tools/miniconda1/envs/smai/lib/python3.7/site-packages/sklearn/svm/base.py:922: ConvergenceWarning: Liblinear failed to converge, increase the number of iterations.\n",
      "  \"the number of iterations.\", ConvergenceWarning)\n"
     ]
    },
    {
     "name": "stdout",
     "output_type": "stream",
     "text": [
      "0.475\n"
     ]
    },
    {
     "name": "stderr",
     "output_type": "stream",
     "text": [
      "/home/karnik/Tools/miniconda1/envs/smai/lib/python3.7/site-packages/sklearn/svm/base.py:922: ConvergenceWarning: Liblinear failed to converge, increase the number of iterations.\n",
      "  \"the number of iterations.\", ConvergenceWarning)\n"
     ]
    },
    {
     "name": "stdout",
     "output_type": "stream",
     "text": [
      "0.6035\n",
      "0.5105\n"
     ]
    },
    {
     "name": "stderr",
     "output_type": "stream",
     "text": [
      "/home/karnik/Tools/miniconda1/envs/smai/lib/python3.7/site-packages/sklearn/svm/base.py:922: ConvergenceWarning: Liblinear failed to converge, increase the number of iterations.\n",
      "  \"the number of iterations.\", ConvergenceWarning)\n"
     ]
    }
   ],
   "source": [
    "# Linear SVM with PCA\n",
    "\n",
    "# dog vs truck\n",
    "train_data, train_labels, test_data, test_labels = splitDataPairwise(5,9)\n",
    "reduced_train_data = pca.fit_transform(train_data)\n",
    "reduced_test_data = pca.fit_transform(test_data)\n",
    "\n",
    "clf = LinearSVC()\n",
    "clf.fit(reduced_train_data, train_labels)\n",
    "print(clf.score(reduced_test_data, test_labels))\n",
    "\n",
    "# deer vs horse\n",
    "train_data, train_labels, test_data, test_labels = splitDataPairwise(4,7)\n",
    "reduced_train_data = pca.fit_transform(train_data)\n",
    "reduced_test_data = pca.fit_transform(test_data)\n",
    "\n",
    "clf = LinearSVC()\n",
    "clf.fit(reduced_train_data, train_labels)\n",
    "print(clf.score(reduced_test_data, test_labels))\n",
    "\n",
    "# dog vs cat\n",
    "train_data, train_labels, test_data, test_labels = splitDataPairwise(5,3)\n",
    "pca = PCA(n_components=32)\n",
    "reduced_train_data = pca.fit_transform(train_data)\n",
    "reduced_test_data = pca.fit_transform(test_data)\n",
    "\n",
    "clf = LinearSVC()\n",
    "clf.fit(reduced_train_data, train_labels)\n",
    "print(clf.score(reduced_test_data, test_labels))"
   ]
  },
  {
   "cell_type": "code",
   "execution_count": 64,
   "metadata": {},
   "outputs": [
    {
     "name": "stderr",
     "output_type": "stream",
     "text": [
      "/home/karnik/Tools/miniconda1/envs/smai/lib/python3.7/site-packages/sklearn/discriminant_analysis.py:388: UserWarning: Variables are collinear.\n",
      "  warnings.warn(\"Variables are collinear.\")\n",
      "/home/karnik/Tools/miniconda1/envs/smai/lib/python3.7/site-packages/sklearn/discriminant_analysis.py:388: UserWarning: Variables are collinear.\n",
      "  warnings.warn(\"Variables are collinear.\")\n"
     ]
    },
    {
     "name": "stdout",
     "output_type": "stream",
     "text": [
      "1.0\n"
     ]
    },
    {
     "name": "stderr",
     "output_type": "stream",
     "text": [
      "/home/karnik/Tools/miniconda1/envs/smai/lib/python3.7/site-packages/sklearn/discriminant_analysis.py:388: UserWarning: Variables are collinear.\n",
      "  warnings.warn(\"Variables are collinear.\")\n",
      "/home/karnik/Tools/miniconda1/envs/smai/lib/python3.7/site-packages/sklearn/discriminant_analysis.py:388: UserWarning: Variables are collinear.\n",
      "  warnings.warn(\"Variables are collinear.\")\n"
     ]
    },
    {
     "name": "stdout",
     "output_type": "stream",
     "text": [
      "0.993\n"
     ]
    },
    {
     "name": "stderr",
     "output_type": "stream",
     "text": [
      "/home/karnik/Tools/miniconda1/envs/smai/lib/python3.7/site-packages/sklearn/discriminant_analysis.py:388: UserWarning: Variables are collinear.\n",
      "  warnings.warn(\"Variables are collinear.\")\n"
     ]
    },
    {
     "name": "stdout",
     "output_type": "stream",
     "text": [
      "0.986\n"
     ]
    },
    {
     "name": "stderr",
     "output_type": "stream",
     "text": [
      "/home/karnik/Tools/miniconda1/envs/smai/lib/python3.7/site-packages/sklearn/discriminant_analysis.py:388: UserWarning: Variables are collinear.\n",
      "  warnings.warn(\"Variables are collinear.\")\n"
     ]
    }
   ],
   "source": [
    "# Linear SVM with LDA\n",
    "\n",
    "# dog vs truck\n",
    "train_data, train_labels, test_data, test_labels = splitDataPairwise(5,9)\n",
    "reduced_train_data = lda.fit_transform(train_data, train_labels)\n",
    "reduced_test_data = lda.fit_transform(test_data, test_labels)\n",
    "\n",
    "clf = LinearSVC()\n",
    "clf.fit(reduced_train_data, train_labels)\n",
    "print(clf.score(reduced_test_data, test_labels))\n",
    "\n",
    "# deer vs horse\n",
    "train_data, train_labels, test_data, test_labels = splitDataPairwise(4,7)\n",
    "reduced_train_data = lda.fit_transform(train_data, train_labels)\n",
    "reduced_test_data = lda.fit_transform(test_data, test_labels)\n",
    "\n",
    "clf = LinearSVC()\n",
    "clf.fit(reduced_train_data, train_labels)\n",
    "print(clf.score(reduced_test_data, test_labels))\n",
    "\n",
    "# dog vs cat\n",
    "train_data, train_labels, test_data, test_labels = splitDataPairwise(5,3)\n",
    "lda = LDA(n_components=32)\n",
    "reduced_train_data = lda.fit_transform(train_data, train_labels)\n",
    "reduced_test_data = lda.fit_transform(test_data, test_labels)\n",
    "\n",
    "clf = LinearSVC()\n",
    "clf.fit(reduced_train_data, train_labels)\n",
    "print(clf.score(reduced_test_data, test_labels))"
   ]
  },
  {
   "cell_type": "code",
   "execution_count": 65,
   "metadata": {},
   "outputs": [
    {
     "name": "stdout",
     "output_type": "stream",
     "text": [
      "0.86\n",
      "0.7025\n",
      "0.617\n"
     ]
    }
   ],
   "source": [
    "# Linear SVM with PCA followed by LDA\n",
    "\n",
    "# dog vs truck\n",
    "train_data, train_labels, test_data, test_labels = splitDataPairwise(5,9)\n",
    "reduced_train_data = pca.fit_transform(train_data)\n",
    "double_reduced_train_data = lda.fit_transform(reduced_train_data, train_labels)\n",
    "reduced_test_data = pca.fit_transform(test_data)\n",
    "double_reduced_test_data = lda.fit_transform(reduced_test_data, test_labels)\n",
    "\n",
    "clf = LinearSVC()\n",
    "clf.fit(double_reduced_train_data, train_labels)\n",
    "print(clf.score(double_reduced_test_data, test_labels))\n",
    "\n",
    "# deer vs horse\n",
    "train_data, train_labels, test_data, test_labels = splitDataPairwise(4,7)\n",
    "reduced_train_data = pca.fit_transform(train_data)\n",
    "double_reduced_train_data = lda.fit_transform(reduced_train_data, train_labels)\n",
    "reduced_test_data = pca.fit_transform(test_data)\n",
    "double_reduced_test_data = lda.fit_transform(reduced_test_data, test_labels)\n",
    "\n",
    "clf = LinearSVC()\n",
    "clf.fit(double_reduced_train_data, train_labels)\n",
    "print(clf.score(double_reduced_test_data, test_labels))\n",
    "\n",
    "# dog vs cat\n",
    "train_data, train_labels, test_data, test_labels = splitDataPairwise(5,3)\n",
    "reduced_train_data = pca.fit_transform(train_data)\n",
    "double_reduced_train_data = lda.fit_transform(reduced_train_data, train_labels)\n",
    "reduced_test_data = pca.fit_transform(test_data)\n",
    "double_reduced_test_data = lda.fit_transform(reduced_test_data, test_labels)\n",
    "\n",
    "clf = LinearSVC()\n",
    "clf.fit(double_reduced_train_data, train_labels)\n",
    "print(clf.score(double_reduced_test_data, test_labels))"
   ]
  }
 ],
 "metadata": {
  "kernelspec": {
   "display_name": "Python 3",
   "language": "python",
   "name": "python3"
  },
  "language_info": {
   "codemirror_mode": {
    "name": "ipython",
    "version": 3
   },
   "file_extension": ".py",
   "mimetype": "text/x-python",
   "name": "python",
   "nbconvert_exporter": "python",
   "pygments_lexer": "ipython3",
   "version": "3.7.0"
  }
 },
 "nbformat": 4,
 "nbformat_minor": 2
}
